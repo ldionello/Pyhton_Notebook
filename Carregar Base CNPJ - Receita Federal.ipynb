{
 "cells": [
  {
   "cell_type": "markdown",
   "id": "675edc6a",
   "metadata": {},
   "source": [
    "# Notebook para carregar a base CNPJ da Receita Federal e realizar Buscas de CNAE"
   ]
  },
  {
   "cell_type": "code",
   "execution_count": 1,
   "id": "db60dee5",
   "metadata": {},
   "outputs": [
    {
     "name": "stdout",
     "output_type": "stream",
     "text": [
      "(60944816, 30)\n",
      "Tempo de execução: 75.10680222511292 segundos\n"
     ]
    }
   ],
   "source": [
    "# Importar Bibliotecas\n",
    "import polars as pl\n",
    "import time\n",
    "import os\n",
    "import gc\n",
    "\n",
    "# Marca o tempo de início\n",
    "start_time = time.time()\n",
    "\n",
    "# Defina o caminho da pasta que contém os arquivos CSV\n",
    "directory_path = \"Base/\"\n",
    "\n",
    "# Defina os nomes das colunas\n",
    "column_names = [\"column01\", \"column02\", \"column03\", \"column04\", \"column05\", \"column06\", \"column07\", \"column08\", \"column09\", \n",
    "                \"column10\", \"column11\", \"column12\", \"column13\", \"column14\", \"column15\", \"column16\", \"column17\", \"column18\", \n",
    "                \"column19\", \"column20\", \"column21\", \"column22\", \"column23\", \"column24\", \"column25\", \"column26\", \"column27\", \n",
    "                \"column28\", \"column29\", \"column30\"]\n",
    "\n",
    "# Inicialize uma lista para armazenar os DataFrames\n",
    "dfs = []\n",
    "\n",
    "# Função para criar um esquema de colunas onde todas são do tipo string\n",
    "def create_schema(column_names):\n",
    "    return {col: pl.Utf8 for col in column_names}\n",
    "\n",
    "# Crie o esquema\n",
    "schema = create_schema(column_names)\n",
    "\n",
    "# Liste todos os arquivos CSV no diretório\n",
    "for file_name in os.listdir(directory_path):\n",
    "    if file_name.endswith(\".csv\"):\n",
    "        file_path = os.path.join(directory_path, file_name)\n",
    "        # Carregue o CSV\n",
    "        df = pl.read_csv(file_path, separator=';', encoding='latin1', ignore_errors=True, schema=schema)\n",
    "        # Mudar nome das colunas\n",
    "        df.columns = column_names\n",
    "        # Adicione o DataFrame à lista\n",
    "        dfs.append(df)\n",
    "\n",
    "# Concatene todos os DataFrames em um único DataFrame\n",
    "final_df = pl.concat(dfs)\n",
    "\n",
    "# Detela o df\n",
    "del df\n",
    "\n",
    "# Forçar a coleta de lixo para liberar a memória\n",
    "gc.collect()\n",
    "\n",
    "# Marca o tempo de término\n",
    "end_time = time.time()\n",
    "\n",
    "# Calcula o tempo de execução\n",
    "execution_time = end_time - start_time\n",
    "\n",
    "# Para verificar a memória utilizada\n",
    "print(final_df.shape)\n",
    "print(f\"Tempo de execução: {execution_time} segundos\")"
   ]
  },
  {
   "cell_type": "code",
   "execution_count": 3,
   "id": "b6567955",
   "metadata": {},
   "outputs": [],
   "source": [
    "############# TRATAMENTO DE DADOS #############\n",
    "\n",
    "# Lista de colunas a serem removidas    \n",
    "colunas_para_remover = [\n",
    "        'column06', 'column08', 'column09', 'column10', 'column14', 'column15', 'column16', 'column17', \n",
    "        'column18', 'column19',  'column20', 'column21', 'column22', 'column23', 'column24', 'column25', \n",
    "        'column26', 'column27', 'column28', 'column29', 'column30']\n",
    "\n",
    "# Deletando Colunas\n",
    "final_df = final_df.drop(colunas_para_remover)\n",
    "\n",
    "# Concatenar duas colunas (por exemplo, \"column03\" e \"column04\")\n",
    "final_df = final_df.with_columns((final_df[\"column01\"]  + final_df[\"column02\"] + final_df[\"column03\"]).alias(\"CNPJ\"))\n",
    "\n",
    "# Lista de colunas a serem removidas    \n",
    "colunas_para_remover = [\n",
    "        'column01', 'column02', 'column03','column04']\n",
    "\n",
    "# Deletando Colunas\n",
    "final_df = final_df.drop(colunas_para_remover)\n",
    "\n",
    "# Renomeando colunas\n",
    "final_df = final_df.rename({\"column05\": \"Razao_Social\"})\n",
    "final_df = final_df.rename({\"column07\": \"Data_Situacao\"})\n",
    "final_df = final_df.rename({\"column11\": \"Data_Abertura\"})\n",
    "final_df = final_df.rename({\"column12\": \"CNAE_Principal\"})\n",
    "final_df = final_df.rename({\"column13\": \"CNAE_Secundario\"})"
   ]
  },
  {
   "cell_type": "code",
   "execution_count": 5,
   "id": "f9c9f68b",
   "metadata": {},
   "outputs": [
    {
     "data": {
      "text/html": [
       "<div><style>\n",
       ".dataframe > thead > tr,\n",
       ".dataframe > tbody > tr {\n",
       "  text-align: right;\n",
       "  white-space: pre-wrap;\n",
       "}\n",
       "</style>\n",
       "<small>shape: (1, 6)</small><table border=\"1\" class=\"dataframe\"><thead><tr><th>Razao_Social</th><th>Data_Situacao</th><th>Data_Abertura</th><th>CNAE_Principal</th><th>CNAE_Secundario</th><th>CNPJ</th></tr><tr><td>str</td><td>str</td><td>str</td><td>str</td><td>str</td><td>str</td></tr></thead><tbody><tr><td>&quot;TRENTO&quot;</td><td>&quot;20140520&quot;</td><td>&quot;20120627&quot;</td><td>&quot;6462000&quot;</td><td>&quot;&quot;</td><td>&quot;16564523000109&quot;</td></tr></tbody></table></div>"
      ],
      "text/plain": [
       "shape: (1, 6)\n",
       "┌──────────────┬───────────────┬───────────────┬────────────────┬─────────────────┬────────────────┐\n",
       "│ Razao_Social ┆ Data_Situacao ┆ Data_Abertura ┆ CNAE_Principal ┆ CNAE_Secundario ┆ CNPJ           │\n",
       "│ ---          ┆ ---           ┆ ---           ┆ ---            ┆ ---             ┆ ---            │\n",
       "│ str          ┆ str           ┆ str           ┆ str            ┆ str             ┆ str            │\n",
       "╞══════════════╪═══════════════╪═══════════════╪════════════════╪═════════════════╪════════════════╡\n",
       "│ TRENTO       ┆ 20140520      ┆ 20120627      ┆ 6462000        ┆                 ┆ 16564523000109 │\n",
       "└──────────────┴───────────────┴───────────────┴────────────────┴─────────────────┴────────────────┘"
      ]
     },
     "execution_count": 5,
     "metadata": {},
     "output_type": "execute_result"
    }
   ],
   "source": [
    "############# REALIZAR PESQUISA POR CNPJ #############\n",
    "\n",
    "# Filtra linhas onde o valor da coluna \"CNPJ\" é igual a \"83770461000170\"\n",
    "resultados = final_df.filter(pl.col(\"CNPJ\") == \"16564523000109\")\n",
    "resultados"
   ]
  }
 ],
 "metadata": {
  "kernelspec": {
   "display_name": "Python 3 (ipykernel)",
   "language": "python",
   "name": "python3"
  },
  "language_info": {
   "codemirror_mode": {
    "name": "ipython",
    "version": 3
   },
   "file_extension": ".py",
   "mimetype": "text/x-python",
   "name": "python",
   "nbconvert_exporter": "python",
   "pygments_lexer": "ipython3",
   "version": "3.10.4"
  }
 },
 "nbformat": 4,
 "nbformat_minor": 5
}
